{
 "cells": [
  {
   "cell_type": "code",
   "execution_count": 1,
   "metadata": {},
   "outputs": [],
   "source": [
    "import xarray as xr\n",
    "import pandas as pd"
   ]
  },
  {
   "cell_type": "markdown",
   "metadata": {},
   "source": [
    "# Moving from csv to netCDF file"
   ]
  },
  {
   "cell_type": "code",
   "execution_count": 2,
   "metadata": {},
   "outputs": [
    {
     "data": {
      "text/html": [
       "<div>\n",
       "<style scoped>\n",
       "    .dataframe tbody tr th:only-of-type {\n",
       "        vertical-align: middle;\n",
       "    }\n",
       "\n",
       "    .dataframe tbody tr th {\n",
       "        vertical-align: top;\n",
       "    }\n",
       "\n",
       "    .dataframe thead th {\n",
       "        text-align: right;\n",
       "    }\n",
       "</style>\n",
       "<table border=\"1\" class=\"dataframe\">\n",
       "  <thead>\n",
       "    <tr style=\"text-align: right;\">\n",
       "      <th></th>\n",
       "      <th>Dates</th>\n",
       "      <th>Sample_nr</th>\n",
       "      <th>Sample_Code</th>\n",
       "      <th>FKEY</th>\n",
       "      <th>YYYY</th>\n",
       "      <th>MM</th>\n",
       "      <th>DD</th>\n",
       "      <th>Station_Code</th>\n",
       "      <th>Gear_Code</th>\n",
       "      <th>Gear</th>\n",
       "      <th>Salinity</th>\n",
       "      <th>Temperature</th>\n",
       "      <th>DO</th>\n",
       "    </tr>\n",
       "  </thead>\n",
       "  <tbody>\n",
       "    <tr>\n",
       "      <td>0</td>\n",
       "      <td>1981-02-03</td>\n",
       "      <td>0</td>\n",
       "      <td>1</td>\n",
       "      <td>1981.02.03.0007.01</td>\n",
       "      <td>1981</td>\n",
       "      <td>2</td>\n",
       "      <td>3</td>\n",
       "      <td>7</td>\n",
       "      <td>1</td>\n",
       "      <td>Trawl (16 ft)</td>\n",
       "      <td>25</td>\n",
       "      <td>11</td>\n",
       "      <td>8.2</td>\n",
       "    </tr>\n",
       "    <tr>\n",
       "      <td>1</td>\n",
       "      <td>1981-02-03</td>\n",
       "      <td>1</td>\n",
       "      <td>1</td>\n",
       "      <td>1981.02.03.0007.01</td>\n",
       "      <td>1981</td>\n",
       "      <td>2</td>\n",
       "      <td>3</td>\n",
       "      <td>7</td>\n",
       "      <td>1</td>\n",
       "      <td>Trawl (16 ft)</td>\n",
       "      <td>25</td>\n",
       "      <td>11</td>\n",
       "      <td>8.2</td>\n",
       "    </tr>\n",
       "    <tr>\n",
       "      <td>2</td>\n",
       "      <td>1981-02-03</td>\n",
       "      <td>2</td>\n",
       "      <td>1</td>\n",
       "      <td>1981.02.03.0007.01</td>\n",
       "      <td>1981</td>\n",
       "      <td>2</td>\n",
       "      <td>3</td>\n",
       "      <td>7</td>\n",
       "      <td>1</td>\n",
       "      <td>Trawl (16 ft)</td>\n",
       "      <td>25</td>\n",
       "      <td>11</td>\n",
       "      <td>8.2</td>\n",
       "    </tr>\n",
       "    <tr>\n",
       "      <td>3</td>\n",
       "      <td>1981-02-03</td>\n",
       "      <td>3</td>\n",
       "      <td>1</td>\n",
       "      <td>1981.02.03.0007.01</td>\n",
       "      <td>1981</td>\n",
       "      <td>2</td>\n",
       "      <td>3</td>\n",
       "      <td>7</td>\n",
       "      <td>1</td>\n",
       "      <td>Trawl (16 ft)</td>\n",
       "      <td>25</td>\n",
       "      <td>11</td>\n",
       "      <td>8.2</td>\n",
       "    </tr>\n",
       "    <tr>\n",
       "      <td>4</td>\n",
       "      <td>1981-02-03</td>\n",
       "      <td>4</td>\n",
       "      <td>1</td>\n",
       "      <td>1981.02.03.0007.01</td>\n",
       "      <td>1981</td>\n",
       "      <td>2</td>\n",
       "      <td>3</td>\n",
       "      <td>7</td>\n",
       "      <td>1</td>\n",
       "      <td>Trawl (16 ft)</td>\n",
       "      <td>25</td>\n",
       "      <td>11</td>\n",
       "      <td>8.2</td>\n",
       "    </tr>\n",
       "    <tr>\n",
       "      <td>5</td>\n",
       "      <td>1981-02-03</td>\n",
       "      <td>5</td>\n",
       "      <td>1</td>\n",
       "      <td>1981.02.03.0007.01</td>\n",
       "      <td>1981</td>\n",
       "      <td>2</td>\n",
       "      <td>3</td>\n",
       "      <td>7</td>\n",
       "      <td>1</td>\n",
       "      <td>Trawl (16 ft)</td>\n",
       "      <td>25</td>\n",
       "      <td>11</td>\n",
       "      <td>8.2</td>\n",
       "    </tr>\n",
       "    <tr>\n",
       "      <td>6</td>\n",
       "      <td>1981-02-03</td>\n",
       "      <td>6</td>\n",
       "      <td>1</td>\n",
       "      <td>1981.02.03.0007.01</td>\n",
       "      <td>1981</td>\n",
       "      <td>2</td>\n",
       "      <td>3</td>\n",
       "      <td>7</td>\n",
       "      <td>1</td>\n",
       "      <td>Trawl (16 ft)</td>\n",
       "      <td>25</td>\n",
       "      <td>11</td>\n",
       "      <td>8.2</td>\n",
       "    </tr>\n",
       "    <tr>\n",
       "      <td>7</td>\n",
       "      <td>1981-02-03</td>\n",
       "      <td>7</td>\n",
       "      <td>1</td>\n",
       "      <td>1981.02.03.0007.01</td>\n",
       "      <td>1981</td>\n",
       "      <td>2</td>\n",
       "      <td>3</td>\n",
       "      <td>7</td>\n",
       "      <td>1</td>\n",
       "      <td>Trawl (16 ft)</td>\n",
       "      <td>25</td>\n",
       "      <td>11</td>\n",
       "      <td>8.2</td>\n",
       "    </tr>\n",
       "    <tr>\n",
       "      <td>8</td>\n",
       "      <td>1981-02-03</td>\n",
       "      <td>8</td>\n",
       "      <td>1</td>\n",
       "      <td>1981.02.03.0007.01</td>\n",
       "      <td>1981</td>\n",
       "      <td>2</td>\n",
       "      <td>3</td>\n",
       "      <td>7</td>\n",
       "      <td>1</td>\n",
       "      <td>Trawl (16 ft)</td>\n",
       "      <td>25</td>\n",
       "      <td>11</td>\n",
       "      <td>8.2</td>\n",
       "    </tr>\n",
       "    <tr>\n",
       "      <td>9</td>\n",
       "      <td>1981-02-03</td>\n",
       "      <td>9</td>\n",
       "      <td>1</td>\n",
       "      <td>1981.02.03.0007.01</td>\n",
       "      <td>1981</td>\n",
       "      <td>2</td>\n",
       "      <td>3</td>\n",
       "      <td>7</td>\n",
       "      <td>1</td>\n",
       "      <td>Trawl (16 ft)</td>\n",
       "      <td>25</td>\n",
       "      <td>11</td>\n",
       "      <td>8.2</td>\n",
       "    </tr>\n",
       "    <tr>\n",
       "      <td>10</td>\n",
       "      <td>1981-02-03</td>\n",
       "      <td>10</td>\n",
       "      <td>1</td>\n",
       "      <td>1981.02.03.0007.01</td>\n",
       "      <td>1981</td>\n",
       "      <td>2</td>\n",
       "      <td>3</td>\n",
       "      <td>7</td>\n",
       "      <td>1</td>\n",
       "      <td>Trawl (16 ft)</td>\n",
       "      <td>25</td>\n",
       "      <td>11</td>\n",
       "      <td>8.2</td>\n",
       "    </tr>\n",
       "  </tbody>\n",
       "</table>\n",
       "</div>"
      ],
      "text/plain": [
       "        Dates  Sample_nr  Sample_Code                FKEY  YYYY MM DD  \\\n",
       "0  1981-02-03          0            1  1981.02.03.0007.01  1981  2  3   \n",
       "1  1981-02-03          1            1  1981.02.03.0007.01  1981  2  3   \n",
       "2  1981-02-03          2            1  1981.02.03.0007.01  1981  2  3   \n",
       "3  1981-02-03          3            1  1981.02.03.0007.01  1981  2  3   \n",
       "4  1981-02-03          4            1  1981.02.03.0007.01  1981  2  3   \n",
       "5  1981-02-03          5            1  1981.02.03.0007.01  1981  2  3   \n",
       "6  1981-02-03          6            1  1981.02.03.0007.01  1981  2  3   \n",
       "7  1981-02-03          7            1  1981.02.03.0007.01  1981  2  3   \n",
       "8  1981-02-03          8            1  1981.02.03.0007.01  1981  2  3   \n",
       "9  1981-02-03          9            1  1981.02.03.0007.01  1981  2  3   \n",
       "10 1981-02-03         10            1  1981.02.03.0007.01  1981  2  3   \n",
       "\n",
       "    Station_Code  Gear_Code           Gear  Salinity  Temperature   DO  \n",
       "0              7          1  Trawl (16 ft)        25           11  8.2  \n",
       "1              7          1  Trawl (16 ft)        25           11  8.2  \n",
       "2              7          1  Trawl (16 ft)        25           11  8.2  \n",
       "3              7          1  Trawl (16 ft)        25           11  8.2  \n",
       "4              7          1  Trawl (16 ft)        25           11  8.2  \n",
       "5              7          1  Trawl (16 ft)        25           11  8.2  \n",
       "6              7          1  Trawl (16 ft)        25           11  8.2  \n",
       "7              7          1  Trawl (16 ft)        25           11  8.2  \n",
       "8              7          1  Trawl (16 ft)        25           11  8.2  \n",
       "9              7          1  Trawl (16 ft)        25           11  8.2  \n",
       "10             7          1  Trawl (16 ft)        25           11  8.2  "
      ]
     },
     "execution_count": 2,
     "metadata": {},
     "output_type": "execute_result"
    }
   ],
   "source": [
    "# parse_dates={'Dates': ['YYYY','MM','DD']} tells pandas to combine these three columns together,\n",
    "#    interpret as datetimes, and name the new column 'Dates'\n",
    "# `keep_date_col=True` retains columns 'YYYY','MM','DD' even though they were combined due to `parse_dates`\n",
    "df = pd.read_csv('Alabama_sam_10_lines_12_col_1981.csv', parse_dates={'Dates': ['YYYY','MM','DD']}, keep_date_col=True)\n",
    "df"
   ]
  },
  {
   "cell_type": "code",
   "execution_count": 3,
   "metadata": {},
   "outputs": [
    {
     "data": {
      "text/plain": [
       "str"
      ]
     },
     "execution_count": 3,
     "metadata": {},
     "output_type": "execute_result"
    }
   ],
   "source": [
    "type(df.Gear[0])"
   ]
  },
  {
   "cell_type": "code",
   "execution_count": 4,
   "metadata": {},
   "outputs": [],
   "source": [
    "# hour, min, sec by hand\n",
    "hour = 12\n",
    "minute = 0\n",
    "second = 0"
   ]
  },
  {
   "cell_type": "code",
   "execution_count": 5,
   "metadata": {},
   "outputs": [],
   "source": [
    "# add on time info\n",
    "df.Dates = df.Dates + pd.Timedelta('%i hours, %i minutes, %i sec' % (hour, minute, second))"
   ]
  },
  {
   "cell_type": "markdown",
   "metadata": {},
   "source": [
    "Change from pandas DataFrame to xarray Dataset"
   ]
  },
  {
   "cell_type": "code",
   "execution_count": 6,
   "metadata": {},
   "outputs": [],
   "source": [
    "ds = df.to_xarray()"
   ]
  },
  {
   "cell_type": "markdown",
   "metadata": {},
   "source": [
    "xarray is made to deal with multi-dimensional data in a pandas-like way, and it's particularly good at netCDF files.\n",
    "\n",
    "We can add a dimension to the dataset (for the trajectory) with the following. After adding the dimension \"trajectory\", we also have to transpose so that the dimensions are in the desired order."
   ]
  },
  {
   "cell_type": "code",
   "execution_count": 7,
   "metadata": {},
   "outputs": [
    {
     "data": {
      "text/plain": [
       "<xarray.DataArray 'Sample_nr' (index: 11)>\n",
       "array([ 0,  1,  2,  3,  4,  5,  6,  7,  8,  9, 10])\n",
       "Coordinates:\n",
       "  * index    (index) int64 0 1 2 3 4 5 6 7 8 9 10"
      ]
     },
     "execution_count": 7,
     "metadata": {},
     "output_type": "execute_result"
    }
   ],
   "source": [
    "ds.Sample_nr"
   ]
  },
  {
   "cell_type": "code",
   "execution_count": 8,
   "metadata": {},
   "outputs": [],
   "source": [
    "ds = ds.expand_dims('trajectory').transpose()"
   ]
  },
  {
   "cell_type": "code",
   "execution_count": 9,
   "metadata": {},
   "outputs": [
    {
     "data": {
      "text/plain": [
       "<xarray.DataArray 'Sample_nr' (index: 11, trajectory: 1)>\n",
       "array([[ 0],\n",
       "       [ 1],\n",
       "       [ 2],\n",
       "       [ 3],\n",
       "       [ 4],\n",
       "       [ 5],\n",
       "       [ 6],\n",
       "       [ 7],\n",
       "       [ 8],\n",
       "       [ 9],\n",
       "       [10]])\n",
       "Coordinates:\n",
       "  * index    (index) int64 0 1 2 3 4 5 6 7 8 9 10\n",
       "Dimensions without coordinates: trajectory"
      ]
     },
     "execution_count": 9,
     "metadata": {},
     "output_type": "execute_result"
    }
   ],
   "source": [
    "ds.Sample_nr"
   ]
  },
  {
   "cell_type": "markdown",
   "metadata": {},
   "source": [
    "Checking on desired outcomes\n",
    "\n",
    "For each type, showing presence in the xarray Dataset"
   ]
  },
  {
   "cell_type": "code",
   "execution_count": 10,
   "metadata": {},
   "outputs": [
    {
     "data": {
      "text/plain": [
       "<xarray.DataArray 'Sample_nr' (index: 11)>\n",
       "array([ 0,  1,  2,  3,  4,  5,  6,  7,  8,  9, 10])\n",
       "Coordinates:\n",
       "  * index    (index) int64 0 1 2 3 4 5 6 7 8 9 10"
      ]
     },
     "execution_count": 10,
     "metadata": {},
     "output_type": "execute_result"
    }
   ],
   "source": [
    "ds.Sample_nr[:,0]"
   ]
  },
  {
   "cell_type": "code",
   "execution_count": 11,
   "metadata": {},
   "outputs": [
    {
     "data": {
      "text/plain": [
       "<xarray.DataArray 'Sample_Code' (index: 11)>\n",
       "array([1, 1, 1, 1, 1, 1, 1, 1, 1, 1, 1])\n",
       "Coordinates:\n",
       "  * index    (index) int64 0 1 2 3 4 5 6 7 8 9 10"
      ]
     },
     "execution_count": 11,
     "metadata": {},
     "output_type": "execute_result"
    }
   ],
   "source": [
    "ds['Sample_Code'][:,0]"
   ]
  },
  {
   "cell_type": "code",
   "execution_count": 12,
   "metadata": {},
   "outputs": [
    {
     "data": {
      "text/plain": [
       "<xarray.DataArray 'FKEY' (index: 11, trajectory: 1)>\n",
       "array([['1981.02.03.0007.01'],\n",
       "       ['1981.02.03.0007.01'],\n",
       "       ['1981.02.03.0007.01'],\n",
       "       ['1981.02.03.0007.01'],\n",
       "       ['1981.02.03.0007.01'],\n",
       "       ['1981.02.03.0007.01'],\n",
       "       ['1981.02.03.0007.01'],\n",
       "       ['1981.02.03.0007.01'],\n",
       "       ['1981.02.03.0007.01'],\n",
       "       ['1981.02.03.0007.01'],\n",
       "       ['1981.02.03.0007.01']], dtype=object)\n",
       "Coordinates:\n",
       "  * index    (index) int64 0 1 2 3 4 5 6 7 8 9 10\n",
       "Dimensions without coordinates: trajectory"
      ]
     },
     "execution_count": 12,
     "metadata": {},
     "output_type": "execute_result"
    }
   ],
   "source": [
    "ds.FKEY"
   ]
  },
  {
   "cell_type": "code",
   "execution_count": 13,
   "metadata": {},
   "outputs": [
    {
     "data": {
      "text/plain": [
       "<xarray.DataArray 'YYYY' (index: 11, trajectory: 1)>\n",
       "array([['1981'],\n",
       "       ['1981'],\n",
       "       ['1981'],\n",
       "       ['1981'],\n",
       "       ['1981'],\n",
       "       ['1981'],\n",
       "       ['1981'],\n",
       "       ['1981'],\n",
       "       ['1981'],\n",
       "       ['1981'],\n",
       "       ['1981']], dtype=object)\n",
       "Coordinates:\n",
       "  * index    (index) int64 0 1 2 3 4 5 6 7 8 9 10\n",
       "Dimensions without coordinates: trajectory"
      ]
     },
     "execution_count": 13,
     "metadata": {},
     "output_type": "execute_result"
    }
   ],
   "source": [
    "ds.YYYY"
   ]
  },
  {
   "cell_type": "code",
   "execution_count": 14,
   "metadata": {},
   "outputs": [
    {
     "data": {
      "text/plain": [
       "<xarray.DataArray 'MM' (index: 11, trajectory: 1)>\n",
       "array([['2'],\n",
       "       ['2'],\n",
       "       ['2'],\n",
       "       ['2'],\n",
       "       ['2'],\n",
       "       ['2'],\n",
       "       ['2'],\n",
       "       ['2'],\n",
       "       ['2'],\n",
       "       ['2'],\n",
       "       ['2']], dtype=object)\n",
       "Coordinates:\n",
       "  * index    (index) int64 0 1 2 3 4 5 6 7 8 9 10\n",
       "Dimensions without coordinates: trajectory"
      ]
     },
     "execution_count": 14,
     "metadata": {},
     "output_type": "execute_result"
    }
   ],
   "source": [
    "ds.MM"
   ]
  },
  {
   "cell_type": "code",
   "execution_count": 15,
   "metadata": {},
   "outputs": [
    {
     "data": {
      "text/plain": [
       "<xarray.DataArray 'DD' (index: 11, trajectory: 1)>\n",
       "array([['3'],\n",
       "       ['3'],\n",
       "       ['3'],\n",
       "       ['3'],\n",
       "       ['3'],\n",
       "       ['3'],\n",
       "       ['3'],\n",
       "       ['3'],\n",
       "       ['3'],\n",
       "       ['3'],\n",
       "       ['3']], dtype=object)\n",
       "Coordinates:\n",
       "  * index    (index) int64 0 1 2 3 4 5 6 7 8 9 10\n",
       "Dimensions without coordinates: trajectory"
      ]
     },
     "execution_count": 15,
     "metadata": {},
     "output_type": "execute_result"
    }
   ],
   "source": [
    "ds.DD"
   ]
  },
  {
   "cell_type": "code",
   "execution_count": 16,
   "metadata": {},
   "outputs": [],
   "source": [
    "dateobj = df.Dates"
   ]
  },
  {
   "cell_type": "code",
   "execution_count": 17,
   "metadata": {},
   "outputs": [
    {
     "data": {
      "text/plain": [
       "0    1981-02-03 12:00:00\n",
       "1    1981-02-03 12:00:00\n",
       "2    1981-02-03 12:00:00\n",
       "3    1981-02-03 12:00:00\n",
       "4    1981-02-03 12:00:00\n",
       "5    1981-02-03 12:00:00\n",
       "6    1981-02-03 12:00:00\n",
       "7    1981-02-03 12:00:00\n",
       "8    1981-02-03 12:00:00\n",
       "9    1981-02-03 12:00:00\n",
       "10   1981-02-03 12:00:00\n",
       "Name: Dates, dtype: datetime64[ns]"
      ]
     },
     "execution_count": 17,
     "metadata": {},
     "output_type": "execute_result"
    }
   ],
   "source": [
    "dateobj"
   ]
  },
  {
   "cell_type": "code",
   "execution_count": 18,
   "metadata": {},
   "outputs": [
    {
     "data": {
      "text/plain": [
       "97236.0"
      ]
     },
     "execution_count": 18,
     "metadata": {},
     "output_type": "execute_result"
    }
   ],
   "source": [
    "# hours since '1970-1-1'\n",
    "time = (dateobj[0] - pd.to_datetime('1970-01-01')).total_seconds()/3600\n",
    "time"
   ]
  },
  {
   "cell_type": "code",
   "execution_count": 19,
   "metadata": {},
   "outputs": [
    {
     "data": {
      "text/plain": [
       "350049600.0"
      ]
     },
     "execution_count": 19,
     "metadata": {},
     "output_type": "execute_result"
    }
   ],
   "source": [
    "# seconds since '1970-1-1'\n",
    "times = (dateobj[0] - pd.to_datetime('1970-01-01')).total_seconds()\n",
    "times"
   ]
  },
  {
   "cell_type": "code",
   "execution_count": 20,
   "metadata": {},
   "outputs": [
    {
     "data": {
      "text/plain": [
       "(11, 1)"
      ]
     },
     "execution_count": 20,
     "metadata": {},
     "output_type": "execute_result"
    }
   ],
   "source": [
    "ds.Station_Code.shape"
   ]
  },
  {
   "cell_type": "code",
   "execution_count": 21,
   "metadata": {},
   "outputs": [
    {
     "data": {
      "text/plain": [
       "<xarray.DataArray 'Gear_Code' (index: 11, trajectory: 1)>\n",
       "array([[1],\n",
       "       [1],\n",
       "       [1],\n",
       "       [1],\n",
       "       [1],\n",
       "       [1],\n",
       "       [1],\n",
       "       [1],\n",
       "       [1],\n",
       "       [1],\n",
       "       [1]])\n",
       "Coordinates:\n",
       "  * index    (index) int64 0 1 2 3 4 5 6 7 8 9 10\n",
       "Dimensions without coordinates: trajectory"
      ]
     },
     "execution_count": 21,
     "metadata": {},
     "output_type": "execute_result"
    }
   ],
   "source": [
    "ds.Gear_Code"
   ]
  },
  {
   "cell_type": "code",
   "execution_count": 22,
   "metadata": {},
   "outputs": [
    {
     "data": {
      "text/plain": [
       "<xarray.DataArray 'Gear' (index: 11, trajectory: 1)>\n",
       "array([['Trawl (16 ft)'],\n",
       "       ['Trawl (16 ft)'],\n",
       "       ['Trawl (16 ft)'],\n",
       "       ['Trawl (16 ft)'],\n",
       "       ['Trawl (16 ft)'],\n",
       "       ['Trawl (16 ft)'],\n",
       "       ['Trawl (16 ft)'],\n",
       "       ['Trawl (16 ft)'],\n",
       "       ['Trawl (16 ft)'],\n",
       "       ['Trawl (16 ft)'],\n",
       "       ['Trawl (16 ft)']], dtype=object)\n",
       "Coordinates:\n",
       "  * index    (index) int64 0 1 2 3 4 5 6 7 8 9 10\n",
       "Dimensions without coordinates: trajectory"
      ]
     },
     "execution_count": 22,
     "metadata": {},
     "output_type": "execute_result"
    }
   ],
   "source": [
    "ds.Gear"
   ]
  },
  {
   "cell_type": "code",
   "execution_count": 23,
   "metadata": {},
   "outputs": [
    {
     "data": {
      "text/plain": [
       "<xarray.DataArray 'Salinity' (index: 11, trajectory: 1)>\n",
       "array([[25],\n",
       "       [25],\n",
       "       [25],\n",
       "       [25],\n",
       "       [25],\n",
       "       [25],\n",
       "       [25],\n",
       "       [25],\n",
       "       [25],\n",
       "       [25],\n",
       "       [25]])\n",
       "Coordinates:\n",
       "  * index    (index) int64 0 1 2 3 4 5 6 7 8 9 10\n",
       "Dimensions without coordinates: trajectory"
      ]
     },
     "execution_count": 23,
     "metadata": {},
     "output_type": "execute_result"
    }
   ],
   "source": [
    "ds.Salinity"
   ]
  },
  {
   "cell_type": "code",
   "execution_count": 24,
   "metadata": {},
   "outputs": [
    {
     "data": {
      "text/plain": [
       "<xarray.DataArray 'Temperature' (index: 11, trajectory: 1)>\n",
       "array([[11],\n",
       "       [11],\n",
       "       [11],\n",
       "       [11],\n",
       "       [11],\n",
       "       [11],\n",
       "       [11],\n",
       "       [11],\n",
       "       [11],\n",
       "       [11],\n",
       "       [11]])\n",
       "Coordinates:\n",
       "  * index    (index) int64 0 1 2 3 4 5 6 7 8 9 10\n",
       "Dimensions without coordinates: trajectory"
      ]
     },
     "execution_count": 24,
     "metadata": {},
     "output_type": "execute_result"
    }
   ],
   "source": [
    "ds.Temperature"
   ]
  },
  {
   "cell_type": "code",
   "execution_count": 25,
   "metadata": {},
   "outputs": [
    {
     "data": {
      "text/plain": [
       "<xarray.DataArray 'DO' (index: 11, trajectory: 1)>\n",
       "array([[8.2],\n",
       "       [8.2],\n",
       "       [8.2],\n",
       "       [8.2],\n",
       "       [8.2],\n",
       "       [8.2],\n",
       "       [8.2],\n",
       "       [8.2],\n",
       "       [8.2],\n",
       "       [8.2],\n",
       "       [8.2]])\n",
       "Coordinates:\n",
       "  * index    (index) int64 0 1 2 3 4 5 6 7 8 9 10\n",
       "Dimensions without coordinates: trajectory"
      ]
     },
     "execution_count": 25,
     "metadata": {},
     "output_type": "execute_result"
    }
   ],
   "source": [
    "ds.DO"
   ]
  },
  {
   "cell_type": "markdown",
   "metadata": {},
   "source": [
    "Can add/change metadata to your xarray Dataset too. Use the following form to add attributes."
   ]
  },
  {
   "cell_type": "code",
   "execution_count": 26,
   "metadata": {},
   "outputs": [],
   "source": [
    "ds.attrs['history'] = 'Detailed account of history'"
   ]
  },
  {
   "cell_type": "code",
   "execution_count": 27,
   "metadata": {},
   "outputs": [
    {
     "data": {
      "text/plain": [
       "<xarray.Dataset>\n",
       "Dimensions:       (index: 11, trajectory: 1)\n",
       "Coordinates:\n",
       "  * index         (index) int64 0 1 2 3 4 5 6 7 8 9 10\n",
       "Dimensions without coordinates: trajectory\n",
       "Data variables:\n",
       "    Dates         (index, trajectory) datetime64[ns] 1981-02-03T12:00:00 ... 1981-02-03T12:00:00\n",
       "    Sample_nr     (index, trajectory) int64 0 1 2 3 4 5 6 7 8 9 10\n",
       "    Sample_Code   (index, trajectory) int64 1 1 1 1 1 1 1 1 1 1 1\n",
       "    FKEY          (index, trajectory) object '1981.02.03.0007.01' ... '1981.02.03.0007.01'\n",
       "    YYYY          (index, trajectory) object '1981' '1981' ... '1981' '1981'\n",
       "    MM            (index, trajectory) object '2' '2' '2' '2' ... '2' '2' '2' '2'\n",
       "    DD            (index, trajectory) object '3' '3' '3' '3' ... '3' '3' '3' '3'\n",
       "    Station_Code  (index, trajectory) int64 7 7 7 7 7 7 7 7 7 7 7\n",
       "    Gear_Code     (index, trajectory) int64 1 1 1 1 1 1 1 1 1 1 1\n",
       "    Gear          (index, trajectory) object 'Trawl (16 ft)' ... 'Trawl (16 ft)'\n",
       "    Salinity      (index, trajectory) int64 25 25 25 25 25 25 25 25 25 25 25\n",
       "    Temperature   (index, trajectory) int64 11 11 11 11 11 11 11 11 11 11 11\n",
       "    DO            (index, trajectory) float64 8.2 8.2 8.2 8.2 ... 8.2 8.2 8.2\n",
       "Attributes:\n",
       "    history:  Detailed account of history"
      ]
     },
     "execution_count": 27,
     "metadata": {},
     "output_type": "execute_result"
    }
   ],
   "source": [
    "ds"
   ]
  },
  {
   "cell_type": "markdown",
   "metadata": {},
   "source": [
    "Once the data looks exactly the way you want it, you can export it with:"
   ]
  },
  {
   "cell_type": "code",
   "execution_count": 28,
   "metadata": {},
   "outputs": [],
   "source": [
    "ds.to_netcdf('test.nc')"
   ]
  },
  {
   "cell_type": "markdown",
   "metadata": {},
   "source": [
    "There are options available for output details, too.\n",
    "\n",
    "You might be interested in using `dask` in the future to have multiple workers when working on large datasets."
   ]
  },
  {
   "cell_type": "code",
   "execution_count": 29,
   "metadata": {},
   "outputs": [
    {
     "data": {
      "text/plain": [
       "str"
      ]
     },
     "execution_count": 29,
     "metadata": {},
     "output_type": "execute_result"
    }
   ],
   "source": [
    "type(ds.Gear[0].values[0])"
   ]
  }
 ],
 "metadata": {
  "kernelspec": {
   "display_name": "Python 3",
   "language": "python",
   "name": "python3"
  },
  "language_info": {
   "codemirror_mode": {
    "name": "ipython",
    "version": 3
   },
   "file_extension": ".py",
   "mimetype": "text/x-python",
   "name": "python",
   "nbconvert_exporter": "python",
   "pygments_lexer": "ipython3",
   "version": "3.7.3"
  }
 },
 "nbformat": 4,
 "nbformat_minor": 2
}
